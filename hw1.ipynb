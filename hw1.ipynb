{
  "cells": [
    {
      "cell_type": "markdown",
      "metadata": {
        "colab_type": "text",
        "id": "view-in-github"
      },
      "source": [
        "<a href=\"https://colab.research.google.com/github/fantasybarry/MSFT-Prediction/blob/main/hw1.ipynb\" target=\"_parent\"><img src=\"https://colab.research.google.com/assets/colab-badge.svg\" alt=\"Open In Colab\"/></a>"
      ]
    },
    {
      "cell_type": "code",
      "execution_count": 44,
      "id": "a4563bef-0a5c-44c6-a16b-f20976d45a82",
      "metadata": {
        "id": "a4563bef-0a5c-44c6-a16b-f20976d45a82",
        "outputId": "92d3fc79-2d65-4397-c15f-142c688143dd"
      },
      "outputs": [
        {
          "name": "stdout",
          "output_type": "stream",
          "text": [
            "Requirement already satisfied: yfinance in /home/lintanbarry/miniconda3/envs/ANN/lib/python3.13/site-packages (0.2.54)\n",
            "Requirement already satisfied: pandas>=1.3.0 in /home/lintanbarry/miniconda3/envs/ANN/lib/python3.13/site-packages (from yfinance) (2.2.3)\n",
            "Requirement already satisfied: numpy>=1.16.5 in /home/lintanbarry/miniconda3/envs/ANN/lib/python3.13/site-packages (from yfinance) (2.2.3)\n",
            "Requirement already satisfied: requests>=2.31 in /home/lintanbarry/miniconda3/envs/ANN/lib/python3.13/site-packages (from yfinance) (2.32.3)\n",
            "Requirement already satisfied: multitasking>=0.0.7 in /home/lintanbarry/miniconda3/envs/ANN/lib/python3.13/site-packages (from yfinance) (0.0.11)\n",
            "Requirement already satisfied: platformdirs>=2.0.0 in /home/lintanbarry/miniconda3/envs/ANN/lib/python3.13/site-packages (from yfinance) (4.3.6)\n",
            "Requirement already satisfied: pytz>=2022.5 in /home/lintanbarry/miniconda3/envs/ANN/lib/python3.13/site-packages (from yfinance) (2025.1)\n",
            "Requirement already satisfied: frozendict>=2.3.4 in /home/lintanbarry/miniconda3/envs/ANN/lib/python3.13/site-packages (from yfinance) (2.4.6)\n",
            "Requirement already satisfied: peewee>=3.16.2 in /home/lintanbarry/miniconda3/envs/ANN/lib/python3.13/site-packages (from yfinance) (3.17.9)\n",
            "Requirement already satisfied: beautifulsoup4>=4.11.1 in /home/lintanbarry/miniconda3/envs/ANN/lib/python3.13/site-packages (from yfinance) (4.13.3)\n",
            "Requirement already satisfied: soupsieve>1.2 in /home/lintanbarry/miniconda3/envs/ANN/lib/python3.13/site-packages (from beautifulsoup4>=4.11.1->yfinance) (2.6)\n",
            "Requirement already satisfied: typing-extensions>=4.0.0 in /home/lintanbarry/miniconda3/envs/ANN/lib/python3.13/site-packages (from beautifulsoup4>=4.11.1->yfinance) (4.12.2)\n",
            "Requirement already satisfied: python-dateutil>=2.8.2 in /home/lintanbarry/miniconda3/envs/ANN/lib/python3.13/site-packages (from pandas>=1.3.0->yfinance) (2.9.0.post0)\n",
            "Requirement already satisfied: tzdata>=2022.7 in /home/lintanbarry/miniconda3/envs/ANN/lib/python3.13/site-packages (from pandas>=1.3.0->yfinance) (2025.1)\n",
            "Requirement already satisfied: charset-normalizer<4,>=2 in /home/lintanbarry/miniconda3/envs/ANN/lib/python3.13/site-packages (from requests>=2.31->yfinance) (3.4.1)\n",
            "Requirement already satisfied: idna<4,>=2.5 in /home/lintanbarry/miniconda3/envs/ANN/lib/python3.13/site-packages (from requests>=2.31->yfinance) (3.10)\n",
            "Requirement already satisfied: urllib3<3,>=1.21.1 in /home/lintanbarry/miniconda3/envs/ANN/lib/python3.13/site-packages (from requests>=2.31->yfinance) (2.3.0)\n",
            "Requirement already satisfied: certifi>=2017.4.17 in /home/lintanbarry/miniconda3/envs/ANN/lib/python3.13/site-packages (from requests>=2.31->yfinance) (2025.1.31)\n",
            "Requirement already satisfied: six>=1.5 in /home/lintanbarry/miniconda3/envs/ANN/lib/python3.13/site-packages (from python-dateutil>=2.8.2->pandas>=1.3.0->yfinance) (1.17.0)\n",
            "Requirement already satisfied: pandas in /home/lintanbarry/miniconda3/envs/ANN/lib/python3.13/site-packages (2.2.3)\n",
            "Requirement already satisfied: numpy>=1.26.0 in /home/lintanbarry/miniconda3/envs/ANN/lib/python3.13/site-packages (from pandas) (2.2.3)\n",
            "Requirement already satisfied: python-dateutil>=2.8.2 in /home/lintanbarry/miniconda3/envs/ANN/lib/python3.13/site-packages (from pandas) (2.9.0.post0)\n",
            "Requirement already satisfied: pytz>=2020.1 in /home/lintanbarry/miniconda3/envs/ANN/lib/python3.13/site-packages (from pandas) (2025.1)\n",
            "Requirement already satisfied: tzdata>=2022.7 in /home/lintanbarry/miniconda3/envs/ANN/lib/python3.13/site-packages (from pandas) (2025.1)\n",
            "Requirement already satisfied: six>=1.5 in /home/lintanbarry/miniconda3/envs/ANN/lib/python3.13/site-packages (from python-dateutil>=2.8.2->pandas) (1.17.0)\n"
          ]
        }
      ],
      "source": [
        "!pip install yfinance # uncomment these to install missing packages if they are not already installed\n",
        "!pip install pandas"
      ]
    },
    {
      "cell_type": "code",
      "execution_count": 45,
      "id": "33c9d138-5310-47f8-b2cd-1a28f97c4fb4",
      "metadata": {
        "id": "33c9d138-5310-47f8-b2cd-1a28f97c4fb4"
      },
      "outputs": [],
      "source": [
        "import yfinance as yf\n",
        "import pandas as pd\n",
        "\n",
        "def get_price(tick,start='2022-10-01',end=None):\n",
        "    return yf.Ticker(tick).history(start=start,end=end)['Close']\n",
        "\n",
        "def get_prices(tickers,start='2022-10-01',end=None):\n",
        "    df=pd.DataFrame()\n",
        "    for s in tickers:\n",
        "        df[s]=get_price(s,start,end)\n",
        "    return df"
      ]
    },
    {
      "cell_type": "markdown",
      "id": "quick-cartoon",
      "metadata": {
        "id": "quick-cartoon"
      },
      "source": [
        "# Prepare training and testing data sets"
      ]
    },
    {
      "cell_type": "code",
      "execution_count": 46,
      "id": "designed-storm",
      "metadata": {
        "id": "designed-storm"
      },
      "outputs": [],
      "source": [
        "feature_stocks=['tsla','meta','goog','amzn','nflx','gbtc','gdx','intc','dal','c']\n",
        "predict_stock='msft'\n",
        "\n",
        "# training set\n",
        "start_date_train='2023-1-01'\n",
        "end_date_train='2024-6-30'\n",
        "\n",
        "X_train=get_prices(feature_stocks,start=start_date_train,end=end_date_train)\n",
        "y_train=get_prices([predict_stock],start=start_date_train,end=end_date_train)\n",
        "\n",
        "# validation set\n",
        "start_date_validate = '2024-7-01'\n",
        "end_date_validate = '2024-11-01'\n",
        "\n",
        "X_validate = get_prices(feature_stocks, start = start_date_validate, end = end_date_validate)\n",
        "y_validate = get_prices([predict_stock], start = start_date_validate, end = end_date_validate)\n",
        "\n",
        "# testing set\n",
        "start_date_test='2024-11-01'\n",
        "end_date_test='2024-12-31'\n",
        "X_test=get_prices(feature_stocks,start=start_date_test,end=end_date_test)\n",
        "y_test=get_prices([predict_stock],start=start_date_test,end=end_date_test)"
      ]
    },
    {
      "cell_type": "code",
      "execution_count": 47,
      "id": "former-sodium",
      "metadata": {
        "id": "former-sodium",
        "outputId": "bede7005-90da-4a63-ba9f-710528388d1d"
      },
      "outputs": [
        {
          "data": {
            "text/html": [
              "<div>\n",
              "<style scoped>\n",
              "    .dataframe tbody tr th:only-of-type {\n",
              "        vertical-align: middle;\n",
              "    }\n",
              "\n",
              "    .dataframe tbody tr th {\n",
              "        vertical-align: top;\n",
              "    }\n",
              "\n",
              "    .dataframe thead th {\n",
              "        text-align: right;\n",
              "    }\n",
              "</style>\n",
              "<table border=\"1\" class=\"dataframe\">\n",
              "  <thead>\n",
              "    <tr style=\"text-align: right;\">\n",
              "      <th></th>\n",
              "      <th>tsla</th>\n",
              "      <th>meta</th>\n",
              "      <th>goog</th>\n",
              "      <th>amzn</th>\n",
              "      <th>nflx</th>\n",
              "      <th>gbtc</th>\n",
              "      <th>gdx</th>\n",
              "      <th>intc</th>\n",
              "      <th>dal</th>\n",
              "      <th>c</th>\n",
              "    </tr>\n",
              "    <tr>\n",
              "      <th>Date</th>\n",
              "      <th></th>\n",
              "      <th></th>\n",
              "      <th></th>\n",
              "      <th></th>\n",
              "      <th></th>\n",
              "      <th></th>\n",
              "      <th></th>\n",
              "      <th></th>\n",
              "      <th></th>\n",
              "      <th></th>\n",
              "    </tr>\n",
              "  </thead>\n",
              "  <tbody>\n",
              "    <tr>\n",
              "      <th>2024-07-01 00:00:00-04:00</th>\n",
              "      <td>209.860001</td>\n",
              "      <td>503.792633</td>\n",
              "      <td>184.038681</td>\n",
              "      <td>197.199997</td>\n",
              "      <td>673.609985</td>\n",
              "      <td>56.090000</td>\n",
              "      <td>33.496746</td>\n",
              "      <td>30.645597</td>\n",
              "      <td>46.619431</td>\n",
              "      <td>61.845009</td>\n",
              "    </tr>\n",
              "    <tr>\n",
              "      <th>2024-07-02 00:00:00-04:00</th>\n",
              "      <td>231.259995</td>\n",
              "      <td>508.604156</td>\n",
              "      <td>186.153488</td>\n",
              "      <td>200.000000</td>\n",
              "      <td>679.580017</td>\n",
              "      <td>54.889999</td>\n",
              "      <td>33.625240</td>\n",
              "      <td>30.874147</td>\n",
              "      <td>46.410778</td>\n",
              "      <td>63.063774</td>\n",
              "    </tr>\n",
              "    <tr>\n",
              "      <th>2024-07-03 00:00:00-04:00</th>\n",
              "      <td>246.389999</td>\n",
              "      <td>509.063354</td>\n",
              "      <td>186.931580</td>\n",
              "      <td>197.589996</td>\n",
              "      <td>682.510010</td>\n",
              "      <td>53.660000</td>\n",
              "      <td>34.870617</td>\n",
              "      <td>31.033138</td>\n",
              "      <td>47.086426</td>\n",
              "      <td>62.849270</td>\n",
              "    </tr>\n",
              "    <tr>\n",
              "      <th>2024-07-05 00:00:00-04:00</th>\n",
              "      <td>251.520004</td>\n",
              "      <td>538.960632</td>\n",
              "      <td>191.490402</td>\n",
              "      <td>200.000000</td>\n",
              "      <td>690.650024</td>\n",
              "      <td>50.150002</td>\n",
              "      <td>35.849133</td>\n",
              "      <td>31.818159</td>\n",
              "      <td>45.725201</td>\n",
              "      <td>62.430019</td>\n",
              "    </tr>\n",
              "    <tr>\n",
              "      <th>2024-07-08 00:00:00-04:00</th>\n",
              "      <td>252.940002</td>\n",
              "      <td>528.389343</td>\n",
              "      <td>190.014008</td>\n",
              "      <td>199.289993</td>\n",
              "      <td>685.739990</td>\n",
              "      <td>50.090000</td>\n",
              "      <td>35.681103</td>\n",
              "      <td>33.775742</td>\n",
              "      <td>46.053085</td>\n",
              "      <td>63.122272</td>\n",
              "    </tr>\n",
              "    <tr>\n",
              "      <th>...</th>\n",
              "      <td>...</td>\n",
              "      <td>...</td>\n",
              "      <td>...</td>\n",
              "      <td>...</td>\n",
              "      <td>...</td>\n",
              "      <td>...</td>\n",
              "      <td>...</td>\n",
              "      <td>...</td>\n",
              "      <td>...</td>\n",
              "      <td>...</td>\n",
              "    </tr>\n",
              "    <tr>\n",
              "      <th>2024-10-25 00:00:00-04:00</th>\n",
              "      <td>269.190002</td>\n",
              "      <td>572.787964</td>\n",
              "      <td>166.800766</td>\n",
              "      <td>187.830002</td>\n",
              "      <td>754.679993</td>\n",
              "      <td>53.090000</td>\n",
              "      <td>41.077747</td>\n",
              "      <td>22.680000</td>\n",
              "      <td>54.119999</td>\n",
              "      <td>60.796143</td>\n",
              "    </tr>\n",
              "    <tr>\n",
              "      <th>2024-10-28 00:00:00-04:00</th>\n",
              "      <td>262.510010</td>\n",
              "      <td>577.693970</td>\n",
              "      <td>168.149231</td>\n",
              "      <td>188.389999</td>\n",
              "      <td>749.119995</td>\n",
              "      <td>55.380001</td>\n",
              "      <td>40.880070</td>\n",
              "      <td>22.920000</td>\n",
              "      <td>55.380001</td>\n",
              "      <td>63.158691</td>\n",
              "    </tr>\n",
              "    <tr>\n",
              "      <th>2024-10-29 00:00:00-04:00</th>\n",
              "      <td>259.519989</td>\n",
              "      <td>592.801880</td>\n",
              "      <td>170.946060</td>\n",
              "      <td>190.830002</td>\n",
              "      <td>759.440002</td>\n",
              "      <td>57.669998</td>\n",
              "      <td>41.532410</td>\n",
              "      <td>22.900000</td>\n",
              "      <td>57.340000</td>\n",
              "      <td>63.680424</td>\n",
              "    </tr>\n",
              "    <tr>\n",
              "      <th>2024-10-30 00:00:00-04:00</th>\n",
              "      <td>257.549988</td>\n",
              "      <td>591.322998</td>\n",
              "      <td>175.940399</td>\n",
              "      <td>192.729996</td>\n",
              "      <td>753.739990</td>\n",
              "      <td>57.080002</td>\n",
              "      <td>41.028324</td>\n",
              "      <td>22.299999</td>\n",
              "      <td>58.459999</td>\n",
              "      <td>63.493385</td>\n",
              "    </tr>\n",
              "    <tr>\n",
              "      <th>2024-10-31 00:00:00-04:00</th>\n",
              "      <td>249.850006</td>\n",
              "      <td>567.122559</td>\n",
              "      <td>172.494308</td>\n",
              "      <td>186.399994</td>\n",
              "      <td>756.030029</td>\n",
              "      <td>55.610001</td>\n",
              "      <td>39.871902</td>\n",
              "      <td>21.520000</td>\n",
              "      <td>57.220001</td>\n",
              "      <td>63.168530</td>\n",
              "    </tr>\n",
              "  </tbody>\n",
              "</table>\n",
              "<p>87 rows × 10 columns</p>\n",
              "</div>"
            ],
            "text/plain": [
              "                                 tsla        meta        goog        amzn  \\\n",
              "Date                                                                        \n",
              "2024-07-01 00:00:00-04:00  209.860001  503.792633  184.038681  197.199997   \n",
              "2024-07-02 00:00:00-04:00  231.259995  508.604156  186.153488  200.000000   \n",
              "2024-07-03 00:00:00-04:00  246.389999  509.063354  186.931580  197.589996   \n",
              "2024-07-05 00:00:00-04:00  251.520004  538.960632  191.490402  200.000000   \n",
              "2024-07-08 00:00:00-04:00  252.940002  528.389343  190.014008  199.289993   \n",
              "...                               ...         ...         ...         ...   \n",
              "2024-10-25 00:00:00-04:00  269.190002  572.787964  166.800766  187.830002   \n",
              "2024-10-28 00:00:00-04:00  262.510010  577.693970  168.149231  188.389999   \n",
              "2024-10-29 00:00:00-04:00  259.519989  592.801880  170.946060  190.830002   \n",
              "2024-10-30 00:00:00-04:00  257.549988  591.322998  175.940399  192.729996   \n",
              "2024-10-31 00:00:00-04:00  249.850006  567.122559  172.494308  186.399994   \n",
              "\n",
              "                                 nflx       gbtc        gdx       intc  \\\n",
              "Date                                                                     \n",
              "2024-07-01 00:00:00-04:00  673.609985  56.090000  33.496746  30.645597   \n",
              "2024-07-02 00:00:00-04:00  679.580017  54.889999  33.625240  30.874147   \n",
              "2024-07-03 00:00:00-04:00  682.510010  53.660000  34.870617  31.033138   \n",
              "2024-07-05 00:00:00-04:00  690.650024  50.150002  35.849133  31.818159   \n",
              "2024-07-08 00:00:00-04:00  685.739990  50.090000  35.681103  33.775742   \n",
              "...                               ...        ...        ...        ...   \n",
              "2024-10-25 00:00:00-04:00  754.679993  53.090000  41.077747  22.680000   \n",
              "2024-10-28 00:00:00-04:00  749.119995  55.380001  40.880070  22.920000   \n",
              "2024-10-29 00:00:00-04:00  759.440002  57.669998  41.532410  22.900000   \n",
              "2024-10-30 00:00:00-04:00  753.739990  57.080002  41.028324  22.299999   \n",
              "2024-10-31 00:00:00-04:00  756.030029  55.610001  39.871902  21.520000   \n",
              "\n",
              "                                 dal          c  \n",
              "Date                                             \n",
              "2024-07-01 00:00:00-04:00  46.619431  61.845009  \n",
              "2024-07-02 00:00:00-04:00  46.410778  63.063774  \n",
              "2024-07-03 00:00:00-04:00  47.086426  62.849270  \n",
              "2024-07-05 00:00:00-04:00  45.725201  62.430019  \n",
              "2024-07-08 00:00:00-04:00  46.053085  63.122272  \n",
              "...                              ...        ...  \n",
              "2024-10-25 00:00:00-04:00  54.119999  60.796143  \n",
              "2024-10-28 00:00:00-04:00  55.380001  63.158691  \n",
              "2024-10-29 00:00:00-04:00  57.340000  63.680424  \n",
              "2024-10-30 00:00:00-04:00  58.459999  63.493385  \n",
              "2024-10-31 00:00:00-04:00  57.220001  63.168530  \n",
              "\n",
              "[87 rows x 10 columns]"
            ]
          },
          "execution_count": 47,
          "metadata": {},
          "output_type": "execute_result"
        }
      ],
      "source": [
        "#X_train\n",
        "#X_test\n",
        "X_validate\n"
      ]
    },
    {
      "cell_type": "code",
      "execution_count": 48,
      "id": "round-stadium",
      "metadata": {
        "id": "round-stadium",
        "outputId": "2c1f4519-7e1d-472e-a531-8636f7010279"
      },
      "outputs": [
        {
          "data": {
            "text/html": [
              "<div>\n",
              "<style scoped>\n",
              "    .dataframe tbody tr th:only-of-type {\n",
              "        vertical-align: middle;\n",
              "    }\n",
              "\n",
              "    .dataframe tbody tr th {\n",
              "        vertical-align: top;\n",
              "    }\n",
              "\n",
              "    .dataframe thead th {\n",
              "        text-align: right;\n",
              "    }\n",
              "</style>\n",
              "<table border=\"1\" class=\"dataframe\">\n",
              "  <thead>\n",
              "    <tr style=\"text-align: right;\">\n",
              "      <th></th>\n",
              "      <th>msft</th>\n",
              "    </tr>\n",
              "    <tr>\n",
              "      <th>Date</th>\n",
              "      <th></th>\n",
              "    </tr>\n",
              "  </thead>\n",
              "  <tbody>\n",
              "    <tr>\n",
              "      <th>2024-07-01 00:00:00-04:00</th>\n",
              "      <td>454.997528</td>\n",
              "    </tr>\n",
              "    <tr>\n",
              "      <th>2024-07-02 00:00:00-04:00</th>\n",
              "      <td>457.537842</td>\n",
              "    </tr>\n",
              "    <tr>\n",
              "      <th>2024-07-03 00:00:00-04:00</th>\n",
              "      <td>459.022186</td>\n",
              "    </tr>\n",
              "    <tr>\n",
              "      <th>2024-07-05 00:00:00-04:00</th>\n",
              "      <td>465.786438</td>\n",
              "    </tr>\n",
              "    <tr>\n",
              "      <th>2024-07-08 00:00:00-04:00</th>\n",
              "      <td>464.471436</td>\n",
              "    </tr>\n",
              "    <tr>\n",
              "      <th>...</th>\n",
              "      <td>...</td>\n",
              "    </tr>\n",
              "    <tr>\n",
              "      <th>2024-10-25 00:00:00-04:00</th>\n",
              "      <td>427.294708</td>\n",
              "    </tr>\n",
              "    <tr>\n",
              "      <th>2024-10-28 00:00:00-04:00</th>\n",
              "      <td>425.737823</td>\n",
              "    </tr>\n",
              "    <tr>\n",
              "      <th>2024-10-29 00:00:00-04:00</th>\n",
              "      <td>431.087128</td>\n",
              "    </tr>\n",
              "    <tr>\n",
              "      <th>2024-10-30 00:00:00-04:00</th>\n",
              "      <td>431.665955</td>\n",
              "    </tr>\n",
              "    <tr>\n",
              "      <th>2024-10-31 00:00:00-04:00</th>\n",
              "      <td>405.538269</td>\n",
              "    </tr>\n",
              "  </tbody>\n",
              "</table>\n",
              "<p>87 rows × 1 columns</p>\n",
              "</div>"
            ],
            "text/plain": [
              "                                 msft\n",
              "Date                                 \n",
              "2024-07-01 00:00:00-04:00  454.997528\n",
              "2024-07-02 00:00:00-04:00  457.537842\n",
              "2024-07-03 00:00:00-04:00  459.022186\n",
              "2024-07-05 00:00:00-04:00  465.786438\n",
              "2024-07-08 00:00:00-04:00  464.471436\n",
              "...                               ...\n",
              "2024-10-25 00:00:00-04:00  427.294708\n",
              "2024-10-28 00:00:00-04:00  425.737823\n",
              "2024-10-29 00:00:00-04:00  431.087128\n",
              "2024-10-30 00:00:00-04:00  431.665955\n",
              "2024-10-31 00:00:00-04:00  405.538269\n",
              "\n",
              "[87 rows x 1 columns]"
            ]
          },
          "execution_count": 48,
          "metadata": {},
          "output_type": "execute_result"
        }
      ],
      "source": [
        "#y_train\n",
        "#y_test\n",
        "y_validate"
      ]
    },
    {
      "cell_type": "markdown",
      "id": "written-antibody",
      "metadata": {
        "id": "written-antibody"
      },
      "source": [
        "# Convert training and testing data into numpy array"
      ]
    },
    {
      "cell_type": "code",
      "execution_count": 49,
      "id": "hired-findings",
      "metadata": {
        "id": "hired-findings"
      },
      "outputs": [],
      "source": [
        "import numpy as np\n",
        "\n",
        "X_train=np.array(X_train)\n",
        "y_train=np.array(y_train)\n",
        "X_test=np.array(X_test)\n",
        "y_test=np.array(y_test)\n"
      ]
    },
    {
      "cell_type": "markdown",
      "id": "helpful-metadata",
      "metadata": {
        "id": "helpful-metadata"
      },
      "source": [
        "# Use linear regression to predict msft stock price from the other stocks' prices"
      ]
    },
    {
      "cell_type": "markdown",
      "id": "southeast-equivalent",
      "metadata": {
        "id": "southeast-equivalent"
      },
      "source": [
        "## 1. Append a dummy feature to both X_train and X_test"
      ]
    },
    {
      "cell_type": "code",
      "execution_count": 50,
      "id": "connected-nursing",
      "metadata": {
        "id": "connected-nursing"
      },
      "outputs": [],
      "source": [
        "# Your solution here"
      ]
    },
    {
      "cell_type": "markdown",
      "id": "romance-pharmaceutical",
      "metadata": {
        "id": "romance-pharmaceutical"
      },
      "source": [
        "## 2. Find the best linear regression model based on your training data ($w=(X X')^{-1} X y$)\n",
        "### Note that you may need to transpose the matrices to make things work\n",
        "\n"
      ]
    },
    {
      "cell_type": "code",
      "execution_count": 51,
      "id": "emotional-vacation",
      "metadata": {
        "id": "emotional-vacation"
      },
      "outputs": [],
      "source": [
        "# Your solution here"
      ]
    },
    {
      "cell_type": "markdown",
      "id": "understood-vacation",
      "metadata": {
        "id": "understood-vacation"
      },
      "source": [
        "## 3. Report your training and testing error\n",
        "### How far your prediction from the actual price. Compute the mean square error for both training and testing"
      ]
    },
    {
      "cell_type": "code",
      "execution_count": 52,
      "id": "crude-breeding",
      "metadata": {
        "id": "crude-breeding"
      },
      "outputs": [],
      "source": [
        "# Your solution here"
      ]
    },
    {
      "cell_type": "code",
      "execution_count": null,
      "id": "stainless-circuit",
      "metadata": {
        "id": "stainless-circuit"
      },
      "outputs": [],
      "source": []
    },
    {
      "cell_type": "code",
      "execution_count": null,
      "id": "sticky-portland",
      "metadata": {
        "id": "sticky-portland"
      },
      "outputs": [],
      "source": []
    }
  ],
  "metadata": {
    "colab": {
      "include_colab_link": true,
      "provenance": []
    },
    "kernelspec": {
      "display_name": "ANN",
      "language": "python",
      "name": "python3"
    },
    "language_info": {
      "codemirror_mode": {
        "name": "ipython",
        "version": 3
      },
      "file_extension": ".py",
      "mimetype": "text/x-python",
      "name": "python",
      "nbconvert_exporter": "python",
      "pygments_lexer": "ipython3",
      "version": "3.13.2"
    }
  },
  "nbformat": 4,
  "nbformat_minor": 5
}
